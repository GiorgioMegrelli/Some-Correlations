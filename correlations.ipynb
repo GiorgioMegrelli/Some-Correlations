{
 "cells": [
  {
   "cell_type": "raw",
   "metadata": {
    "collapsed": true,
    "pycharm": {
     "name": "#%% raw\n"
    }
   },
   "source": [
    "Import packages:"
   ]
  },
  {
   "cell_type": "code",
   "execution_count": 1,
   "outputs": [],
   "source": [
    "from datetime import datetime\n",
    "from itertools import combinations\n",
    "from IPython.display import display, HTML\n",
    "\n",
    "import pandas\n",
    "\n",
    "import core"
   ],
   "metadata": {
    "collapsed": false,
    "pycharm": {
     "name": "#%%\n"
    }
   }
  },
  {
   "cell_type": "raw",
   "source": [
    "Read tickers' data from 'tickers.xml':"
   ],
   "metadata": {
    "collapsed": false,
    "pycharm": {
     "name": "#%% raw\n"
    }
   }
  },
  {
   "cell_type": "code",
   "execution_count": 2,
   "outputs": [],
   "source": [
    "tickers = core.get_tickers(\"tickers.xml\")\n",
    "\n",
    "names = [t.name for t in tickers]\n",
    "symbs = [t.symbol for t in tickers]"
   ],
   "metadata": {
    "collapsed": false,
    "pycharm": {
     "name": "#%%\n"
    }
   }
  },
  {
   "cell_type": "raw",
   "source": [
    "Initialize date range:"
   ],
   "metadata": {
    "collapsed": false,
    "pycharm": {
     "name": "#%% raw\n"
    }
   }
  },
  {
   "cell_type": "code",
   "execution_count": 3,
   "outputs": [],
   "source": [
    "start_date = datetime(2012, 5, 1)\n",
    "end_date = datetime(2022, 5, 1)"
   ],
   "metadata": {
    "collapsed": false,
    "pycharm": {
     "name": "#%%\n"
    }
   }
  },
  {
   "cell_type": "raw",
   "source": [
    "Download data in date range for each ticker:"
   ],
   "metadata": {
    "collapsed": false,
    "pycharm": {
     "name": "#%% raw\n"
    }
   }
  },
  {
   "cell_type": "code",
   "execution_count": 4,
   "outputs": [],
   "source": [
    "ticker_datas = {\n",
    "    s: core.download_daily_avg(s, start_date, end_date) for s in symbs\n",
    "}"
   ],
   "metadata": {
    "collapsed": false,
    "pycharm": {
     "name": "#%%\n"
    }
   }
  },
  {
   "cell_type": "raw",
   "source": [
    "Count correlations between tickers:"
   ],
   "metadata": {
    "collapsed": false,
    "pycharm": {
     "name": "#%% raw\n"
    }
   }
  },
  {
   "cell_type": "code",
   "source": [
    "# Correlations between same tickers is one\n",
    "corrs = {(t, t): 1 for t in symbs}\n",
    "\n",
    "# Iterate over unique pairs of tickers\n",
    "for a, b in combinations(symbs, 2):\n",
    "    # Count correletion between tickers dataframes\n",
    "    pair_df = [ticker_datas[a], ticker_datas[b]]\n",
    "    df = pandas.concat(pair_df, axis=1, join=\"inner\")\n",
    "    df_corr = df.corr(method=\"pearson\")\n",
    "    # Store correlations in dictinary\n",
    "    a_key, b_key = df_corr.columns.tolist()\n",
    "    pair = tuple(sorted([a, b]))\n",
    "    corrs[pair] = round(df_corr[a_key][b_key], 5)"
   ],
   "metadata": {
    "collapsed": false,
    "pycharm": {
     "name": "#%%\n"
    }
   },
   "execution_count": 5,
   "outputs": []
  },
  {
   "cell_type": "raw",
   "source": [
    "Build correlations table"
   ],
   "metadata": {
    "collapsed": false,
    "pycharm": {
     "name": "#%% raw\n"
    }
   }
  },
  {
   "cell_type": "code",
   "execution_count": 6,
   "outputs": [
    {
     "data": {
      "text/plain": "<IPython.core.display.HTML object>",
      "text/html": "<!doctype html>\n<html lang=\"en\">\n<head>\n    <meta charset=\"utf-8\">\n    <title>pandas dataframe</title>\n\n    <link rel=\"stylesheet\" href=\"css/dataframe.css\">\n</head>\n<body><table border=\"1\" class=\"dataframe\">\n  <thead>\n    <tr style=\"text-align: right;\">\n      <th></th>\n      <th>S&amp;P500</th>\n      <th>Nasdaq</th>\n      <th>Dow Jones</th>\n      <th>Alphabet</th>\n      <th>Amazon</th>\n      <th>Tesla</th>\n      <th>Meta</th>\n      <th>Bitcoin</th>\n      <th>Ethereum</th>\n      <th>Binance</th>\n      <th>XRP</th>\n      <th>Cardano</th>\n      <th>Solana</th>\n      <th>Litecoin</th>\n    </tr>\n  </thead>\n  <tbody>\n    <tr>\n      <th>S&amp;P500</th>\n      <td>1</td>\n      <td>0.99118</td>\n      <td>0.98808</td>\n      <td>0.98303</td>\n      <td>0.9571</td>\n      <td>0.86838</td>\n      <td>0.95558</td>\n      <td>0.91721</td>\n      <td>0.8988</td>\n      <td>0.90034</td>\n      <td>0.45094</td>\n      <td>0.83667</td>\n      <td>0.78517</td>\n      <td>0.75122</td>\n    </tr>\n    <tr>\n      <th>Nasdaq</th>\n      <td>0.99118</td>\n      <td>1</td>\n      <td>0.971</td>\n      <td>0.98167</td>\n      <td>0.97544</td>\n      <td>0.89463</td>\n      <td>0.95787</td>\n      <td>0.91858</td>\n      <td>0.85438</td>\n      <td>0.85212</td>\n      <td>0.40107</td>\n      <td>0.81068</td>\n      <td>0.72534</td>\n      <td>0.73805</td>\n    </tr>\n    <tr>\n      <th>Dow Jones</th>\n      <td>0.98808</td>\n      <td>0.971</td>\n      <td>1</td>\n      <td>0.95436</td>\n      <td>0.95222</td>\n      <td>0.7971</td>\n      <td>0.95483</td>\n      <td>0.86953</td>\n      <td>0.88662</td>\n      <td>0.89504</td>\n      <td>0.48412</td>\n      <td>0.84083</td>\n      <td>0.71615</td>\n      <td>0.78528</td>\n    </tr>\n    <tr>\n      <th>Alphabet</th>\n      <td>0.98303</td>\n      <td>0.98167</td>\n      <td>0.95436</td>\n      <td>1</td>\n      <td>0.93742</td>\n      <td>0.9121</td>\n      <td>0.92848</td>\n      <td>0.93307</td>\n      <td>0.93225</td>\n      <td>0.92691</td>\n      <td>0.48473</td>\n      <td>0.87658</td>\n      <td>0.83634</td>\n      <td>0.72681</td>\n    </tr>\n    <tr>\n      <th>Amazon</th>\n      <td>0.9571</td>\n      <td>0.97544</td>\n      <td>0.95222</td>\n      <td>0.93742</td>\n      <td>1</td>\n      <td>0.82228</td>\n      <td>0.94964</td>\n      <td>0.82339</td>\n      <td>0.697</td>\n      <td>0.71373</td>\n      <td>0.2465</td>\n      <td>0.66409</td>\n      <td>0.40768</td>\n      <td>0.697</td>\n    </tr>\n    <tr>\n      <th>Tesla</th>\n      <td>0.86838</td>\n      <td>0.89463</td>\n      <td>0.7971</td>\n      <td>0.9121</td>\n      <td>0.82228</td>\n      <td>1</td>\n      <td>0.76725</td>\n      <td>0.92954</td>\n      <td>0.88754</td>\n      <td>0.86129</td>\n      <td>0.4313</td>\n      <td>0.77718</td>\n      <td>0.7719</td>\n      <td>0.63248</td>\n    </tr>\n    <tr>\n      <th>Meta</th>\n      <td>0.95558</td>\n      <td>0.95787</td>\n      <td>0.95483</td>\n      <td>0.92848</td>\n      <td>0.94964</td>\n      <td>0.76725</td>\n      <td>1</td>\n      <td>0.83611</td>\n      <td>0.74763</td>\n      <td>0.74278</td>\n      <td>0.40799</td>\n      <td>0.79406</td>\n      <td>0.41908</td>\n      <td>0.75039</td>\n    </tr>\n    <tr>\n      <th>Bitcoin</th>\n      <td>0.91721</td>\n      <td>0.91858</td>\n      <td>0.86953</td>\n      <td>0.93307</td>\n      <td>0.82339</td>\n      <td>0.92954</td>\n      <td>0.83611</td>\n      <td>1</td>\n      <td>0.92708</td>\n      <td>0.92333</td>\n      <td>0.57048</td>\n      <td>0.88917</td>\n      <td>0.67595</td>\n      <td>0.8078</td>\n    </tr>\n    <tr>\n      <th>Ethereum</th>\n      <td>0.8988</td>\n      <td>0.85438</td>\n      <td>0.88662</td>\n      <td>0.93225</td>\n      <td>0.697</td>\n      <td>0.88754</td>\n      <td>0.74763</td>\n      <td>0.92708</td>\n      <td>1</td>\n      <td>0.96542</td>\n      <td>0.65681</td>\n      <td>0.92711</td>\n      <td>0.88201</td>\n      <td>0.67407</td>\n    </tr>\n    <tr>\n      <th>Binance</th>\n      <td>0.90034</td>\n      <td>0.85212</td>\n      <td>0.89504</td>\n      <td>0.92691</td>\n      <td>0.71373</td>\n      <td>0.86129</td>\n      <td>0.74278</td>\n      <td>0.92333</td>\n      <td>0.96542</td>\n      <td>1</td>\n      <td>0.59801</td>\n      <td>0.90022</td>\n      <td>0.8082</td>\n      <td>0.62061</td>\n    </tr>\n    <tr>\n      <th>XRP</th>\n      <td>0.45094</td>\n      <td>0.40107</td>\n      <td>0.48412</td>\n      <td>0.48473</td>\n      <td>0.2465</td>\n      <td>0.4313</td>\n      <td>0.40799</td>\n      <td>0.57048</td>\n      <td>0.65681</td>\n      <td>0.59801</td>\n      <td>1</td>\n      <td>0.69913</td>\n      <td>0.65935</td>\n      <td>0.80818</td>\n    </tr>\n    <tr>\n      <th>Cardano</th>\n      <td>0.83667</td>\n      <td>0.81068</td>\n      <td>0.84083</td>\n      <td>0.87658</td>\n      <td>0.66409</td>\n      <td>0.77718</td>\n      <td>0.79406</td>\n      <td>0.88917</td>\n      <td>0.92711</td>\n      <td>0.90022</td>\n      <td>0.69913</td>\n      <td>1</td>\n      <td>0.72226</td>\n      <td>0.69849</td>\n    </tr>\n    <tr>\n      <th>Solana</th>\n      <td>0.78517</td>\n      <td>0.72534</td>\n      <td>0.71615</td>\n      <td>0.83634</td>\n      <td>0.40768</td>\n      <td>0.7719</td>\n      <td>0.41908</td>\n      <td>0.67595</td>\n      <td>0.88201</td>\n      <td>0.8082</td>\n      <td>0.65935</td>\n      <td>0.72226</td>\n      <td>1</td>\n      <td>0.45832</td>\n    </tr>\n    <tr>\n      <th>Litecoin</th>\n      <td>0.75122</td>\n      <td>0.73805</td>\n      <td>0.78528</td>\n      <td>0.72681</td>\n      <td>0.697</td>\n      <td>0.63248</td>\n      <td>0.75039</td>\n      <td>0.8078</td>\n      <td>0.67407</td>\n      <td>0.62061</td>\n      <td>0.80818</td>\n      <td>0.69849</td>\n      <td>0.45832</td>\n      <td>1</td>\n    </tr>\n  </tbody>\n</table></body>\n</html>"
     },
     "metadata": {},
     "output_type": "display_data"
    }
   ],
   "source": [
    "# Table of correlations\n",
    "table = pandas.DataFrame(index=names, columns=names)\n",
    "\n",
    "# Ticker's symbol to ticker's name dictinary\n",
    "symb_name = {t.symbol: t.name for t in tickers}\n",
    "\n",
    "# Store correlations to suitable table\n",
    "for col in symbs:\n",
    "    for row in symbs:\n",
    "        k = tuple(sorted([col, row]))\n",
    "        table[symb_name[row]][symb_name[col]] = corrs[k]\n",
    "\n",
    "# Output table\n",
    "html_fmted = core.make_html(\"html/dataframe.html\", table.to_html())\n",
    "display(HTML(html_fmted))"
   ],
   "metadata": {
    "collapsed": false,
    "pycharm": {
     "name": "#%%\n"
    }
   }
  }
 ],
 "metadata": {
  "kernelspec": {
   "display_name": "Python 3",
   "language": "python",
   "name": "python3"
  },
  "language_info": {
   "codemirror_mode": {
    "name": "ipython",
    "version": 2
   },
   "file_extension": ".py",
   "mimetype": "text/x-python",
   "name": "python",
   "nbconvert_exporter": "python",
   "pygments_lexer": "ipython2",
   "version": "2.7.6"
  }
 },
 "nbformat": 4,
 "nbformat_minor": 0
}